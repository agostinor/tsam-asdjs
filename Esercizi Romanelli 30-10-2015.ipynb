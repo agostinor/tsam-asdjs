{
 "metadata": {
  "name": "",
  "signature": "sha256:d1bc2d09a3ea8824896cbbb18db5117ae7ecffdbced40d07de05a315f6772ea3"
 },
 "nbformat": 3,
 "nbformat_minor": 0,
 "worksheets": [
  {
   "cells": [
    {
     "cell_type": "markdown",
     "metadata": {},
     "source": [
      "#Per ogni esercizio implementare l\u2019algoritmo iterativo e ricorsivo. Per ogni algoritmo si indichi la complessit\u00e0 tramite la notazione O\u00ad grande."
     ]
    },
    {
     "cell_type": "markdown",
     "metadata": {},
     "source": [
      "###Esercizio 1. Dato un array di interi, restituire la loro somma fino a che non viene ritrovato un valore negativo."
     ]
    },
    {
     "cell_type": "markdown",
     "metadata": {},
     "source": [
      "###Iterativo"
     ]
    },
    {
     "cell_type": "code",
     "collapsed": false,
     "input": [
      "function sumOutNegative(array){\n",
      "    sumall = 0;\n",
      "    i = 0;\n",
      "    while(array[i] > 0){\n",
      "        sumall += array[i];\n",
      "        i++;\n",
      "    }\n",
      "    return sumall;\n",
      "}\n",
      "// O(n);\n",
      "Jenny = [1,2,3,4,-9,7];\n",
      "sumOutNegative(Jenny);"
     ],
     "language": "python",
     "metadata": {},
     "outputs": [
      {
       "metadata": {},
       "output_type": "pyout",
       "prompt_number": 5,
       "text": [
        "10"
       ]
      }
     ],
     "prompt_number": 5
    },
    {
     "cell_type": "markdown",
     "metadata": {},
     "source": [
      "###Ricorsivo"
     ]
    },
    {
     "cell_type": "code",
     "collapsed": false,
     "input": [
      "function sumOutNegativeR(array){\n",
      "    if(array.length == 0 || array[0] < 0){\n",
      "        return 0;\n",
      "    }\n",
      "    else{\n",
      "        return array[0] + sumOutNegativeR(array.slice(1));\n",
      "    }\n",
      "}\n",
      "//O(n);\n",
      "sumOutNegativeR([2,32,654, -1000000, 5]);"
     ],
     "language": "python",
     "metadata": {},
     "outputs": [
      {
       "metadata": {},
       "output_type": "pyout",
       "prompt_number": 63,
       "text": [
        "688"
       ]
      }
     ],
     "prompt_number": 63
    },
    {
     "cell_type": "markdown",
     "metadata": {},
     "source": [
      "### Esercizio 2. Dato un numero n, restituire la somma dei primi n numeri interi positivi dispari"
     ]
    },
    {
     "cell_type": "markdown",
     "metadata": {},
     "source": [
      "###Iterativo"
     ]
    },
    {
     "cell_type": "code",
     "collapsed": false,
     "input": [
      "function numOdd(n){\n",
      "    sumOdd = 0;\n",
      "    for(i = 1; i <= n; i++){\n",
      "        sumOdd += 2*i-1;\n",
      "    }\n",
      "    return sumOdd;\n",
      "}\n",
      "// O(n);\n",
      "numOdd(4);"
     ],
     "language": "python",
     "metadata": {},
     "outputs": [
      {
       "metadata": {},
       "output_type": "pyout",
       "prompt_number": 62,
       "text": [
        "16"
       ]
      }
     ],
     "prompt_number": 62
    },
    {
     "cell_type": "markdown",
     "metadata": {},
     "source": [
      "###Ricorsivo"
     ]
    },
    {
     "cell_type": "code",
     "collapsed": false,
     "input": [
      "function numOddR(n){\n",
      "    if(n == 0){\n",
      "        return 0;\n",
      "    }\n",
      "    else{\n",
      "        return n*2-1 + numOddR(n-1);\n",
      "    }\n",
      "}\n",
      "//O(n);\n",
      "numOddR(4);"
     ],
     "language": "python",
     "metadata": {},
     "outputs": [
      {
       "metadata": {},
       "output_type": "pyout",
       "prompt_number": 19,
       "text": [
        "16"
       ]
      }
     ],
     "prompt_number": 19
    },
    {
     "cell_type": "markdown",
     "metadata": {},
     "source": [
      "###Esercizio 3. Dato un array di 10 elementi, calcolarne la media"
     ]
    },
    {
     "cell_type": "markdown",
     "metadata": {},
     "source": [
      "###Iterativo"
     ]
    },
    {
     "cell_type": "code",
     "collapsed": false,
     "input": [
      "function average(array){\n",
      "    aver = 0;\n",
      "    for(i = 0; i < array.length; i++){\n",
      "        aver += array[i];\n",
      "    }\n",
      "    aver /= array.length;\n",
      "    return aver;\n",
      "}\n",
      "//O(n);\n",
      "average([1,2,3,4,5,6,8,8,9,0]);"
     ],
     "language": "python",
     "metadata": {},
     "outputs": [
      {
       "metadata": {},
       "output_type": "pyout",
       "prompt_number": 61,
       "text": [
        "4.6"
       ]
      }
     ],
     "prompt_number": 61
    },
    {
     "cell_type": "markdown",
     "metadata": {},
     "source": [
      "### Ricorsivo"
     ]
    },
    {
     "cell_type": "code",
     "collapsed": false,
     "input": [
      "function averageR2(array){\n",
      "    if(array.length == 0){\n",
      "        return 0;\n",
      "    }\n",
      "    else{\n",
      "        return array[0] + averageR2(array.slice(1));\n",
      "    }\n",
      "}\n",
      "\n",
      "function averageR(array){\n",
      "    return averageR2(array)/array.length;\n",
      "}\n",
      "//O(n);\n",
      "averageR([1,2,3,4,5,6,8,8,9,0]);"
     ],
     "language": "python",
     "metadata": {},
     "outputs": [
      {
       "metadata": {},
       "output_type": "pyout",
       "prompt_number": 46,
       "text": [
        "4.6"
       ]
      }
     ],
     "prompt_number": 46
    },
    {
     "cell_type": "markdown",
     "metadata": {},
     "source": [
      "### Esercizio 4. Dato un intervallo [a, b] con a e b due interi positivi, restituire la somma di tutti i numeri compresi all\u2019interno dell\u2019intervallo, estremi inclusi. Nel caso che b fosse minore di a, calcolare la somma nell\u2019intervallo [b,a]"
     ]
    },
    {
     "cell_type": "markdown",
     "metadata": {},
     "source": [
      "### Iterativo"
     ]
    },
    {
     "cell_type": "code",
     "collapsed": false,
     "input": [
      "function sumInt(a,b){\n",
      "    sumall = 0;\n",
      "    if(b < a){\n",
      "        c = b;\n",
      "        b = a;\n",
      "        a = c;\n",
      "    }\n",
      "    for(i = a; i <= b; i++){\n",
      "        sumall = sumall + i;\n",
      "    }\n",
      "        return sumall;\n",
      "}\n",
      "//O(n);\n",
      "sumInt(-1, 5);"
     ],
     "language": "python",
     "metadata": {},
     "outputs": [
      {
       "metadata": {},
       "output_type": "pyout",
       "prompt_number": 60,
       "text": [
        "14"
       ]
      }
     ],
     "prompt_number": 60
    },
    {
     "cell_type": "markdown",
     "metadata": {},
     "source": [
      "### Ricorsivo"
     ]
    },
    {
     "cell_type": "code",
     "collapsed": false,
     "input": [
      "function sumIntR(a, b){\n",
      "    if(b < a){\n",
      "        c = b;\n",
      "        b = a;\n",
      "        a = c;\n",
      "    }\n",
      "    num = b - a + 1;\n",
      "    array = [];\n",
      "    for(i = 0; i < num; i++){\n",
      "        array[i] = a + i;\n",
      "    }\n",
      "    return sumIntR2(array);\n",
      "}\n",
      "\n",
      "function sumIntR2(a){\n",
      "    if(a.length == 0){\n",
      "        return 0;\n",
      "    }\n",
      "    else{\n",
      "        return a[0] + sumIntR2(a.slice(1));\n",
      "    }\n",
      "    return a;\n",
      "}\n",
      "\n",
      "sumIntR(5, -1);"
     ],
     "language": "python",
     "metadata": {},
     "outputs": [
      {
       "metadata": {},
       "output_type": "pyout",
       "prompt_number": 13,
       "text": [
        "14"
       ]
      }
     ],
     "prompt_number": 13
    },
    {
     "cell_type": "markdown",
     "metadata": {},
     "source": [
      "### Esercizio 5. Si calcoli il prodotto di due numeri a, b maggiori o uguali a zero, tramite l\u2019utilizzo del solo operatore somma."
     ]
    },
    {
     "cell_type": "markdown",
     "metadata": {},
     "source": [
      "### Iterativo"
     ]
    },
    {
     "cell_type": "code",
     "collapsed": false,
     "input": [
      "function mult(a, b){\n",
      "    s = 0;\n",
      "    for(i = 0; i < b; i++){\n",
      "        s += a;\n",
      "    }\n",
      "    return s;\n",
      "}\n",
      "// O(n);\n",
      "mult(44, 2);"
     ],
     "language": "python",
     "metadata": {},
     "outputs": [
      {
       "metadata": {},
       "output_type": "pyout",
       "prompt_number": 30,
       "text": [
        "88"
       ]
      }
     ],
     "prompt_number": 30
    },
    {
     "cell_type": "markdown",
     "metadata": {},
     "source": [
      "### Ricorsivo"
     ]
    },
    {
     "cell_type": "code",
     "collapsed": false,
     "input": [
      "function multR(a, b){\n",
      "    if(b == 0){\n",
      "     return 0;\n",
      "    }\n",
      "    else{\n",
      "        return a + multR(a, b-1);\n",
      "    }\n",
      "}\n",
      "//O(n);\n",
      "multR(2, 5);"
     ],
     "language": "python",
     "metadata": {},
     "outputs": [
      {
       "metadata": {},
       "output_type": "pyout",
       "prompt_number": 4,
       "text": [
        "10"
       ]
      }
     ],
     "prompt_number": 4
    },
    {
     "cell_type": "markdown",
     "metadata": {},
     "source": [
      "### Esercizio 6. Si calcoli la divisione e il resto della divisione tra due numeri a, b maggiori a zero, tramite l\u2019utilizzo dei soli operatori somma e sottrazione."
     ]
    },
    {
     "cell_type": "markdown",
     "metadata": {},
     "source": [
      "### Iterativo"
     ]
    },
    {
     "cell_type": "code",
     "collapsed": false,
     "input": [
      "    function divisionRest(a, b){\n",
      "        division = 0;\n",
      "        while(a > b){\n",
      "            a = a - b;\n",
      "            division++;\n",
      "        }\n",
      "        array = [division, a];\n",
      "        return array;\n",
      "    }\n",
      "//O(n);\n",
      "divisionRest(7,3);"
     ],
     "language": "python",
     "metadata": {},
     "outputs": [
      {
       "metadata": {},
       "output_type": "pyout",
       "prompt_number": 25,
       "text": [
        "[ 2, 1 ]"
       ]
      }
     ],
     "prompt_number": 25
    },
    {
     "cell_type": "markdown",
     "metadata": {},
     "source": [
      "### Ricorsivo"
     ]
    },
    {
     "cell_type": "code",
     "collapsed": false,
     "input": [
      "function divisionRestR(a,b){\n",
      "    newArray = [];\n",
      "    newArray[0] = divisionR(a,b);\n",
      "    function divisionR(a, b){\n",
      "        if(a > b){\n",
      "            return 1 + divisionR(a-b, b);\n",
      "        }\n",
      "        else{\n",
      "            return 0;\n",
      "        }\n",
      "    }\n",
      "\n",
      "    newArray[1] = restR(a,b);\n",
      "    function restR(a, b){\n",
      "        if(a > b){\n",
      "            return restR(a-b, b);\n",
      "        }\n",
      "        else{\n",
      "            return a;\n",
      "        }\n",
      "    }\n",
      "\n",
      "    return newArray;\n",
      "}\n",
      "\n",
      "divisionRestR(7,3);"
     ],
     "language": "python",
     "metadata": {},
     "outputs": [
      {
       "metadata": {},
       "output_type": "pyout",
       "prompt_number": 43,
       "text": [
        "[ 2, 1 ]"
       ]
      }
     ],
     "prompt_number": 43
    },
    {
     "cell_type": "markdown",
     "metadata": {},
     "source": [
      "### 7. Si calcoli la potenza (x^y) di due numeri x y maggiori o uguali a zero, tramite l\u2019utilizzo dei soli operatori somma, sottrazione e della funzione mult."
     ]
    },
    {
     "cell_type": "code",
     "collapsed": false,
     "input": [
      "function power(a, b){\n",
      "    c = a;\n",
      "    for(i = 0; i < b-1; i++){\n",
      "        c = multR(c, a);\n",
      "    }\n",
      "    return c;\n",
      "}\n",
      "//O(n);\n",
      "power(3,4);"
     ],
     "language": "python",
     "metadata": {},
     "outputs": [
      {
       "metadata": {},
       "output_type": "pyout",
       "prompt_number": 33,
       "text": [
        "81"
       ]
      }
     ],
     "prompt_number": 33
    },
    {
     "cell_type": "markdown",
     "metadata": {},
     "source": [
      "### Ricorsivo"
     ]
    },
    {
     "cell_type": "code",
     "collapsed": false,
     "input": [
      "function powerR(a, b){\n",
      "    if(b == 0){\n",
      "        return 1;\n",
      "    }\n",
      "    else{\n",
      "        return multR(multR(a, 1), powerR(a, b-1));\n",
      "    }\n",
      "}\n",
      "//O(n);\n",
      "powerR(3,5);"
     ],
     "language": "python",
     "metadata": {},
     "outputs": [
      {
       "metadata": {},
       "output_type": "pyout",
       "prompt_number": 35,
       "text": [
        "243"
       ]
      }
     ],
     "prompt_number": 35
    },
    {
     "cell_type": "markdown",
     "metadata": {},
     "source": [
      "### Esercizio 8. Dato un array contenente n^2 elementi, scrivere un algoritmo che permetta di inserire tutti gli oggetti in un array bidimensionale n x n."
     ]
    },
    {
     "cell_type": "markdown",
     "metadata": {},
     "source": [
      "###Iterativo"
     ]
    },
    {
     "cell_type": "code",
     "collapsed": false,
     "input": [],
     "language": "python",
     "metadata": {},
     "outputs": []
    },
    {
     "cell_type": "markdown",
     "metadata": {},
     "source": [
      "###Ricorsivo"
     ]
    },
    {
     "cell_type": "code",
     "collapsed": false,
     "input": [],
     "language": "python",
     "metadata": {},
     "outputs": []
    },
    {
     "cell_type": "markdown",
     "metadata": {},
     "source": [
      "### Esercizio 9. Dato una lista di elementi, scrivere un algoritmo che permetta di invertire l\u2019ordine degli elementi."
     ]
    },
    {
     "cell_type": "markdown",
     "metadata": {},
     "source": [
      "### Iterativo"
     ]
    },
    {
     "cell_type": "code",
     "collapsed": false,
     "input": [
      "function exchange(Input){\n",
      "    output = [];\n",
      "    for(i = 0; i < Input.length; i++){\n",
      "            output[i] = Input[Input.length-1-i];\n",
      "    }\n",
      "    return output;\n",
      "}\n",
      "//O(n);\n",
      "exchange([2,5,8]);"
     ],
     "language": "python",
     "metadata": {},
     "outputs": [
      {
       "metadata": {},
       "output_type": "pyout",
       "prompt_number": 11,
       "text": [
        "[ 8, 5, 2 ]"
       ]
      }
     ],
     "prompt_number": 11
    },
    {
     "cell_type": "markdown",
     "metadata": {},
     "source": [
      "### Ricorsivo"
     ]
    },
    {
     "cell_type": "code",
     "collapsed": false,
     "input": [
      "/*function exchangeR(Input){\n",
      "    if(Input.length == 0){\n",
      "        \n",
      "    }\n",
      "    else{\n",
      "        Input[0]\n",
      "    }\n",
      "}*/"
     ],
     "language": "python",
     "metadata": {},
     "outputs": [
      {
       "metadata": {},
       "output_type": "pyout",
       "prompt_number": 50,
       "text": [
        "undefined"
       ]
      }
     ],
     "prompt_number": 50
    },
    {
     "cell_type": "markdown",
     "metadata": {},
     "source": [
      "### Esercizio 10. Dati due interi a, n maggiori di 0, scrivere un algoritmo che crea un lista di n elementi contenenti a."
     ]
    },
    {
     "cell_type": "markdown",
     "metadata": {},
     "source": [
      "### Iterativo"
     ]
    },
    {
     "cell_type": "code",
     "collapsed": false,
     "input": [
      "function replicate(a, n){\n",
      "    array = [];\n",
      "    for(i = 0; i < n; i++){\n",
      "    array[i] = a;\n",
      "    }\n",
      "    return array;\n",
      "}\n",
      "//O(n);\n",
      "replicate(3, 5);"
     ],
     "language": "python",
     "metadata": {},
     "outputs": [
      {
       "metadata": {},
       "output_type": "pyout",
       "prompt_number": 14,
       "text": [
        "[ 3, 3, 3, 3, 3 ]"
       ]
      }
     ],
     "prompt_number": 14
    },
    {
     "cell_type": "markdown",
     "metadata": {},
     "source": [
      "### Ricorsivo"
     ]
    },
    {
     "cell_type": "code",
     "collapsed": false,
     "input": [
      "/*function replicateR2(a, n, array){\n",
      "    newarray = [];\n",
      "    if(n == 0){\n",
      "        return a;\n",
      "    }\n",
      "    else{\n",
      "        return \n",
      "    }\n",
      "}\n",
      "\n",
      "replicateR(3, 5);*/"
     ],
     "language": "python",
     "metadata": {},
     "outputs": [
      {
       "metadata": {},
       "output_type": "pyout",
       "prompt_number": 59,
       "text": [
        "undefined"
       ]
      }
     ],
     "prompt_number": 59
    },
    {
     "cell_type": "markdown",
     "metadata": {},
     "source": [
      "### Esercizio 11. Data una lista di interi A, si riordini gli elementi della lista in modo tale che tutti gli elementi dispari precedano nello stesso ordine tutti gli elementi pari."
     ]
    },
    {
     "cell_type": "markdown",
     "metadata": {},
     "source": [
      "### Iterativo"
     ]
    },
    {
     "cell_type": "code",
     "collapsed": false,
     "input": [
      "function rearrange(array){\n",
      "    newArray = [];\n",
      "    countOdd = -1;\n",
      "    for(i = 0; i < array.length; i++){\n",
      "        if(array[i]%2 != 0){\n",
      "            countOdd++;\n",
      "            newArray[countOdd] = array[i];\n",
      "        }\n",
      "    }\n",
      "    for(i = 0; i < array.length; i++){\n",
      "        if(array[i]%2 == 0){\n",
      "            countOdd++;\n",
      "            newArray[countOdd] = array[i];\n",
      "        }\n",
      "    }\n",
      "    return newArray;\n",
      "}\n",
      "\n",
      "rearrange([2,5,1,8]);"
     ],
     "language": "python",
     "metadata": {},
     "outputs": [
      {
       "metadata": {},
       "output_type": "pyout",
       "prompt_number": 16,
       "text": [
        "[ 5, 1, 2, 8 ]"
       ]
      }
     ],
     "prompt_number": 16
    },
    {
     "cell_type": "markdown",
     "metadata": {},
     "source": [
      "### Ricorsivo"
     ]
    },
    {
     "cell_type": "code",
     "collapsed": false,
     "input": [],
     "language": "python",
     "metadata": {},
     "outputs": []
    }
   ],
   "metadata": {}
  }
 ]
}